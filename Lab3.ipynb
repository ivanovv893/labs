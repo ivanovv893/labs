{
 "cells": [
  {
   "cell_type": "markdown",
   "id": "667e9e7b",
   "metadata": {},
   "source": [
    "- Прочитайте главы 7-8 из книги \"Spark: The Definitive Guide\".\n",
    "- Загрузите датасеты по ссылкам:\n",
    "    - https://www.kaggle.com/datasets/sveta151/tiktok-popular-songs-2019\n",
    "    - https://www.kaggle.com/datasets/sveta151/tiktok-popular-songs-2020\n",
    "    - https://www.kaggle.com/datasets/sveta151/tiktok-popular-songs-2021\n",
    "    - https://www.kaggle.com/datasets/sveta151/tiktok-popular-songs-2022\n",
    "- Выполните задания."
   ]
  },
  {
   "cell_type": "code",
   "execution_count": 1,
   "id": "90ae95f5",
   "metadata": {},
   "outputs": [
    {
     "name": "stdout",
     "output_type": "stream",
     "text": [
      "22/12/30 02:13:41 WARN Utils: Your hostname, student-VirtualBox resolves to a loopback address: 127.0.1.1; using 10.0.2.15 instead (on interface enp0s3)\n",
      "22/12/30 02:13:41 WARN Utils: Set SPARK_LOCAL_IP if you need to bind to another address\n"
     ]
    },
    {
     "name": "stderr",
     "output_type": "stream",
     "text": [
      "Setting default log level to \"WARN\".\n",
      "To adjust logging level use sc.setLogLevel(newLevel). For SparkR, use setLogLevel(newLevel).\n"
     ]
    },
    {
     "name": "stdout",
     "output_type": "stream",
     "text": [
      "22/12/30 02:13:49 WARN NativeCodeLoader: Unable to load native-hadoop library for your platform... using builtin-java classes where applicable\n"
     ]
    },
    {
     "name": "stderr",
     "output_type": "stream",
     "text": [
      "                                                                                \r"
     ]
    }
   ],
   "source": [
    "from pyspark.sql import SparkSession\n",
    "from pyspark.sql.functions import regexp_extract\n",
    "from pyspark.sql.functions import col,lit\n",
    "spark = SparkSession.builder\\\n",
    "                    .master(\"local\")\\\n",
    "                    .appName('SparkLab3')\\\n",
    "                    .getOrCreate()\n",
    "\n",
    "# Загружаем наборы данных в один DataFrame.\n",
    "df0=tiktokData2019 = spark.read.option(\"inferSchema\", \"true\").option(\"header\", \"true\").csv(\"/home/student/Desktop/TikTok_songs_2019.csv\")\\\n",
    ".select(\"track_name\", \"artist_name\", \"artist_pop\",\"album\",\"track_pop\",\"danceability\",\"energy\",\"loudness\",\"speechiness\", \"acousticness\", \"instrumentalness\", \"liveness\", \"valence\",lit(\"2019\").alias(\"year\"))\n",
    "df1=tiktokData2020 = spark.read.option(\"inferSchema\", \"true\").option(\"header\", \"true\").csv(\"/home/student/Desktop/TikTok_songs_2020.csv\")\\\n",
    ".select(\"track_name\", \"artist_name\", \"artist_pop\",\"album\",\"track_pop\",\"danceability\",\"energy\",\"loudness\",\"speechiness\", \"acousticness\", \"instrumentalness\", \"liveness\", \"valence\",lit(\"2020\").alias(\"year\"))\n",
    "df2=tiktokData2021 = spark.read.option(\"inferSchema\", \"true\").option(\"header\", \"true\").csv(\"/home/student/Desktop/TikTok_songs_2021.csv\")\\\n",
    ".select(\"track_name\", \"artist_name\", \"artist_pop\",\"album\",\"track_pop\",\"danceability\",\"energy\",\"loudness\",\"speechiness\", \"acousticness\", \"instrumentalness\", \"liveness\", \"valence\",lit(\"2021\").alias(\"year\"))\n",
    "df3=tiktokData2022 = spark.read.option(\"inferSchema\", \"true\").option(\"header\", \"true\").csv(\"/home/student/Desktop/TikTok_songs_2022.csv\")\\\n",
    ".select(\"track_name\", \"artist_name\", \"artist_pop\",\"album\",\"track_pop\",\"danceability\",\"energy\",\"loudness\",\"speechiness\", \"acousticness\", \"instrumentalness\", \"liveness\", \"valence\",lit(\"2022\").alias(\"year\"))\n",
    "df4 = df0.unionByName(df1, allowMissingColumns = True)\n",
    "df5 = df4.unionByName(df2, allowMissingColumns = True)\n",
    "df6 = df5.unionByName(df3, allowMissingColumns = True)   \n",
    "#df6.show(7)\n"
   ]
  },
  {
   "cell_type": "markdown",
   "id": "6e4041a5",
   "metadata": {},
   "source": [
    "№1:(+) Добавьте столбец year целочисленного типа, который содержит год датасета для каждой строки данных. Выведите самые танцевальные песни из наборов данных вместе с полем year.\n",
    "\n",
    "|          track_name|artist_name|year|danceability|\n",
    "|--------------------|-----------|----|------------|\n",
    "|  Dancing in My Room|   347aidan|2020|        0.98|\n",
    "|                 Uno|    Ambjaay|2019|       0.978|\n",
    "|I'm Looking for M...|   Memetown|2020|       0.977|\n",
    "|           Hood Baby|       KBFR|2020|       0.974|\n",
    "|              MICKEY| Lil Yachty|2019|       0.971|\n",
    "|Muffins In The Fr...|      Tiagz|2020|       0.965|\n",
    "\n",
    "<div style=\"text-align: center\"> only showing top 6 rows </div>"
   ]
  },
  {
   "cell_type": "code",
   "execution_count": 11,
   "id": "ff1e6c30",
   "metadata": {
    "scrolled": true
   },
   "outputs": [
    {
     "name": "stdout",
     "output_type": "stream",
     "text": [
      "+--------------------+-----------+----+------------+\n",
      "|          track_name|artist_name|year|danceability|\n",
      "+--------------------+-----------+----+------------+\n",
      "|  Dancing in My Room|   347aidan|2020|        0.98|\n",
      "|                 Uno|    Ambjaay|2019|       0.978|\n",
      "|I'm Looking for M...|   Memetown|2020|       0.977|\n",
      "|           Hood Baby|       KBFR|2020|       0.974|\n",
      "|              MICKEY| Lil Yachty|2019|       0.971|\n",
      "|Muffins In The Fr...|      Tiagz|2020|       0.965|\n",
      "+--------------------+-----------+----+------------+\n",
      "only showing top 6 rows\n",
      "\n"
     ]
    }
   ],
   "source": [
    "from pyspark.sql.functions import input_file_name\n",
    "from pyspark.sql.functions import regexp_extract\n",
    "from pyspark.sql.functions import desc\n",
    "from pyspark.sql.types import IntegerType\n",
    "\n",
    "df7 = df6\\\n",
    ".sort(desc(col(\"danceability\"))).select(\"track_name\", \"artist_name\", \"year\", \"danceability\").show(6)"
   ]
  },
  {
   "cell_type": "markdown",
   "id": "c60255bd",
   "metadata": {},
   "source": [
    "№2:(+) Найдите исполнителей, которым сопоставлено более одного значения популярности. Выведите эти значения в виде списков.\n",
    "\n",
    "|          artist|popularity|\n",
    "|----------------|----------|\n",
    "|            KYLE|  [65, 66]|\n",
    "|Kero Kero Bonito|  [57, 56]|\n",
    "|       Kesh Kesh|  [27, 26]|\n",
    "|    Mahogany Lox|  [38, 37]|\n",
    "|   Trevor Daniel|  [66, 65]|\n",
    "|       blackbear|  [79, 80]|"
   ]
  },
  {
   "cell_type": "code",
   "execution_count": 12,
   "id": "31724a4e",
   "metadata": {},
   "outputs": [
    {
     "name": "stderr",
     "output_type": "stream",
     "text": [
      "[Stage 34:===========================================>              (3 + 1) / 4]\r"
     ]
    },
    {
     "name": "stdout",
     "output_type": "stream",
     "text": [
      "+-------------+----------+\n",
      "|       artist|popularity|\n",
      "+-------------+----------+\n",
      "|    Kesh Kesh|  [27, 26]|\n",
      "| Mahogany Lox|  [37, 38]|\n",
      "|Trevor Daniel|  [66, 65]|\n",
      "|    blackbear|  [79, 80]|\n",
      "+-------------+----------+\n",
      "\n"
     ]
    },
    {
     "name": "stderr",
     "output_type": "stream",
     "text": [
      "\r",
      "                                                                                \r"
     ]
    }
   ],
   "source": [
    "from pyspark.sql.functions import col\n",
    "from pyspark.sql.functions import collect_list\n",
    "from pyspark.sql.functions import collect_set\n",
    "from pyspark.sql.functions import count\n",
    "\n",
    "df8 = df6\\\n",
    ".groupBy(\"artist_name\",\"track_name\", \"album\")\\\n",
    ".agg(collect_set(\"artist_pop\").alias(\"popularity\"))\\\n",
    ".withColumn(\"a\",size(\"popularity\"))\\\n",
    ".where(\"a > 1\")\\\n",
    ".withColumnRenamed(\"artist_name\", \"artist\")\\\n",
    ".select(\"artist\",\"popularity\").show(6)"
   ]
  },
  {
   "cell_type": "markdown",
   "id": "37340d0e",
   "metadata": {},
   "source": [
    "№3: Исправьте различающиеся значения популярности исполнителей. Замените их на максимальные значения из полученных в предыдущем задании массивов.\n",
    "\n",
    "|          track_name|     artist_name|               album|artist_pop|\n",
    "|--------------------|----------------|--------------------|----------|\n",
    "|     hot girl bummer|       blackbear|     hot girl bummer|        80|\n",
    "|Hey Julie! (feat....|            KYLE|Light of Mine (De...|        66|\n",
    "|             Falling|   Trevor Daniel|             Falling|        66|\n",
    "|             Falling|   Trevor Daniel|            Nicotine|        66|\n",
    "|            Flamingo|Kero Kero Bonito|            Flamingo|        57|\n",
    "|       Take Your Man|    Mahogany Lox|       Take Your Man|        38|\n",
    "|              Vibin'|       Kesh Kesh|              Vibin'|        27|\n",
    "\n",
    "<div style=\"text-align: center\"> 968 </div>"
   ]
  },
  {
   "cell_type": "code",
   "execution_count": 13,
   "id": "61d8e2bd",
   "metadata": {},
   "outputs": [
    {
     "ename": "NameError",
     "evalue": "name 'tiktokData3' is not defined",
     "output_type": "error",
     "traceback": [
      "\u001b[0;31m---------------------------------------------------------------------------\u001b[0m",
      "\u001b[0;31mNameError\u001b[0m                                 Traceback (most recent call last)",
      "Input \u001b[0;32mIn [13]\u001b[0m, in \u001b[0;36m<cell line: 8>\u001b[0;34m()\u001b[0m\n\u001b[1;32m      3\u001b[0m \u001b[38;5;28;01mimport\u001b[39;00m \u001b[38;5;21;01mpyspark\u001b[39;00m\u001b[38;5;21;01m.\u001b[39;00m\u001b[38;5;21;01msql\u001b[39;00m\u001b[38;5;21;01m.\u001b[39;00m\u001b[38;5;21;01mfunctions\u001b[39;00m \u001b[38;5;28;01mas\u001b[39;00m \u001b[38;5;21;01mF\u001b[39;00m\n\u001b[1;32m      4\u001b[0m \u001b[38;5;66;03m# tiktokData3 = tiktokData1\\\u001b[39;00m\n\u001b[1;32m      5\u001b[0m \n\u001b[1;32m      6\u001b[0m \n\u001b[1;32m      7\u001b[0m \u001b[38;5;66;03m# Выводим различия между новым  и старым датафреймами\u001b[39;00m\n\u001b[0;32m----> 8\u001b[0m substractDf \u001b[38;5;241m=\u001b[39m \u001b[43mtiktokData3\u001b[49m\\\n\u001b[1;32m      9\u001b[0m \u001b[38;5;241m.\u001b[39msubtract(tiktokData1)\\\n\u001b[1;32m     10\u001b[0m \u001b[38;5;241m.\u001b[39mselect(\u001b[38;5;124m\"\u001b[39m\u001b[38;5;124mtrack_name\u001b[39m\u001b[38;5;124m\"\u001b[39m, \u001b[38;5;124m\"\u001b[39m\u001b[38;5;124martist_name\u001b[39m\u001b[38;5;124m\"\u001b[39m, \u001b[38;5;124m\"\u001b[39m\u001b[38;5;124malbum\u001b[39m\u001b[38;5;124m\"\u001b[39m, \u001b[38;5;124m\"\u001b[39m\u001b[38;5;124martist_pop\u001b[39m\u001b[38;5;124m\"\u001b[39m)\\\n\u001b[1;32m     11\u001b[0m \u001b[38;5;241m.\u001b[39msort(desc(\u001b[38;5;124m\"\u001b[39m\u001b[38;5;124martist_pop\u001b[39m\u001b[38;5;124m\"\u001b[39m))\n\u001b[1;32m     13\u001b[0m substractDf\u001b[38;5;241m.\u001b[39mshow()\n\u001b[1;32m     14\u001b[0m tiktokData3\u001b[38;5;241m.\u001b[39mcount()\n",
      "\u001b[0;31mNameError\u001b[0m: name 'tiktokData3' is not defined"
     ]
    }
   ],
   "source": [
    "from pyspark.sql.functions import array_max\n",
    "from pyspark.sql.functions import when\n",
    "import pyspark.sql.functions as F\n",
    "# tiktokData3 = tiktokData1\\\n",
    "\n",
    "\n",
    "# Выводим различия между новым  и старым датафреймами\n",
    "substractDf = tiktokData3\\\n",
    ".subtract(tiktokData1)\\\n",
    ".select(\"track_name\", \"artist_name\", \"album\", \"artist_pop\")\\\n",
    ".sort(desc(\"artist_pop\"))\n",
    "\n",
    "substractDf.show()\n",
    "tiktokData3.count()"
   ]
  },
  {
   "cell_type": "markdown",
   "id": "dacae573",
   "metadata": {},
   "source": [
    "№4:(+) Сгруппируйте данные по названию трека, названию альбома, имени и популярности певца. Годы датасетов соберите в списки. Популярность треков возьмите из максимального значения. Для столбцов danceability, energy,   speechiness, acousticness, instrumentalness, liveness и valence возьмите среднее значение. Остальные столбцы отбросьте. Сколько получилось строк в сгруппированном DataFrame?\n",
    "\n",
    "Полученный датафрейм сохраните в новый parquet файл. Это можно сделать методом:\n",
    "\n",
    "```\n",
    "df.write.format(\"parquet\").mode(\"overwrite\").save(\"path to file\")\n",
    "```\n",
    "\n",
    "Результат при этом сохранится в новую директорию.\n",
    "Другой способ:\n",
    "\n",
    "```\n",
    "df.toPandas().to_parquet(\"path to file\")\n",
    "```\n",
    "\n",
    "Результат сохранится в один файл без создания директорий. Для этого способа понадобится библиотека pyarrow.\n",
    "Установите ее с помощью команд:\n",
    "\n",
    "```\n",
    "source ~/Work/bin/activate\n",
    "pip3 install pyarrow\n",
    "```"
   ]
  },
  {
   "cell_type": "code",
   "execution_count": 14,
   "id": "ca52658d",
   "metadata": {},
   "outputs": [
    {
     "name": "stderr",
     "output_type": "stream",
     "text": [
      "                                                                                \r"
     ]
    },
    {
     "data": {
      "text/plain": [
       "853"
      ]
     },
     "execution_count": 14,
     "metadata": {},
     "output_type": "execute_result"
    }
   ],
   "source": [
    "from pyspark.sql.functions import expr\n",
    "from pyspark.sql.functions import max\n",
    "from pyspark.sql.functions import avg\n",
    "from pyspark.sql.functions import size\n",
    "from pyspark.sql.functions import sort_array\n",
    "\n",
    "df10 = df6\\\n",
    "\n",
    "df10 = df6.select(\"track_name\", \"artist_name\", \"artist_pop\",\"album\",\"track_pop\",\"danceability\",\"energy\",\"loudness\", \"year\",\"speechiness\",\"acousticness\",\"instrumentalness\",\"liveness\",\"valence\")\\\n",
    ".groupBy(\"track_name\",\"album\" , \"artist_name\", \"artist_pop\")\\\n",
    ".agg(collect_list(\"year\").alias(\"years\"),\n",
    "     max(\"track_pop\").alias(\"track_pop_max\"),\n",
    "     avg(\"danceability\").alias(\"danceability_avg\"),\n",
    "     avg(\"energy\").alias(\"energy_avg\"),\n",
    "     avg(\"speechiness\").alias(\"speechiness_avg\"),\n",
    "     avg(\"acousticness\").alias(\"acousticness_avg\"),\n",
    "     avg(\"instrumentalness\").alias(\"instrumentalness_avg\"),\n",
    "     avg(\"liveness\").alias(\"avg_liveness_avg\"),\n",
    "     avg(\"valence\").alias(\"valence_avg\"))\\\n",
    "\n",
    "\n",
    "\n",
    "df10.write.format(\"parquet\").mode(\"overwrite\").save(\"path to file\")\n",
    "df10.count()\n"
   ]
  },
  {
   "cell_type": "markdown",
   "id": "a4fa2dc8",
   "metadata": {},
   "source": [
    "№5:(+) Отсортируйте песни по количеству вхождений в датасеты и популярности. Выведите их вместе со списками годов наборов данных.\n",
    "\n",
    "|          track_name|               album|     artist_name|track_pop|               years|\n",
    "|--------------------|--------------------|----------------|---------|--------------------|\n",
    "|              Say So|            Hot Pink|        Doja Cat|       80|[2019, 2020, 2021...|\n",
    "|      Wait a Minute!|        ARDIPITHECUS|          WILLOW|       86|  [2019, 2020, 2022]|\n",
    "|       Electric Love|            Dopamine|           BØRNS|       82|  [2020, 2021, 2022]|\n",
    "|           Play Date|Cry Baby (Deluxe ...|Melanie Martinez|       78|  [2020, 2021, 2022]|\n",
    "|             ROXANNE|             ROXANNE|  Arizona Zervas|       78|  [2019, 2020, 2022]|\n",
    "|Savage Love (Laxe...|Savage Love (Laxe...|       Jawsh 685|       77|  [2020, 2021, 2022]|\n",
    "\n",
    "<div style=\"text-align: center\"> only showing top 6 rows </div>"
   ]
  },
  {
   "cell_type": "code",
   "execution_count": 15,
   "id": "db4e6270",
   "metadata": {},
   "outputs": [
    {
     "name": "stderr",
     "output_type": "stream",
     "text": [
      "[Stage 46:===========================================>              (3 + 1) / 4]\r"
     ]
    },
    {
     "name": "stdout",
     "output_type": "stream",
     "text": [
      "+--------------------+--------------------+----------------+---------+--------------------+\n",
      "|          track_name|               album|     artist_name|track_pop|               years|\n",
      "+--------------------+--------------------+----------------+---------+--------------------+\n",
      "|              Say So|            Hot Pink|        Doja Cat|       80|[2019, 2020, 2021...|\n",
      "|      Wait a Minute!|        ARDIPITHECUS|          WILLOW|       86|  [2019, 2020, 2022]|\n",
      "|       Electric Love|            Dopamine|           BØRNS|       82|  [2020, 2021, 2022]|\n",
      "|           Play Date|Cry Baby (Deluxe ...|Melanie Martinez|       78|  [2020, 2021, 2022]|\n",
      "|             ROXANNE|             ROXANNE|  Arizona Zervas|       78|  [2019, 2020, 2022]|\n",
      "|Savage Love (Laxe...|Savage Love (Laxe...|       Jawsh 685|       77|  [2020, 2021, 2022]|\n",
      "+--------------------+--------------------+----------------+---------+--------------------+\n",
      "only showing top 6 rows\n",
      "\n"
     ]
    },
    {
     "name": "stderr",
     "output_type": "stream",
     "text": [
      "\r",
      "                                                                                \r"
     ]
    }
   ],
   "source": [
    "df11 = df6\\\n",
    ".groupBy(\"artist_name\",\"album\",\"track_name\",\"track_pop\")\\\n",
    ".agg(collect_list(\"year\").alias(\"years\"))\\\n",
    ".sort(desc(size(\"years\")), desc(\"track_pop\"))\\\n",
    ".select(\"track_name\", \"album\" ,\"artist_name\",\"track_pop\", sort_array(\"years\"))\\\n",
    ".withColumnRenamed(\"sort_array(years, true)\", \"years\").show(6)\n"
   ]
  },
  {
   "cell_type": "markdown",
   "id": "f8bb1709",
   "metadata": {},
   "source": [
    "№6:(+) Найдите все треки с повторяющимися именами. Выполните их сортировку по названию. Выведите названия песен, названия альбомов, имена исполнителей и годы датасетов. Сколько строк в полученной таблице?\n",
    "\n",
    "|          track_name|               album|   artist_name| years|\n",
    "|--------------------|--------------------|--------------|------|\n",
    "|\"More Than A Woma...|How Can You Mend ...|      Bee Gees|[2022]|\n",
    "|\"More Than A Woma...|            Greatest|      Bee Gees|[2020]|\n",
    "|223's (feat. 9lok...|    Melly vs. Melvin|     YNW Melly|[2019]|\n",
    "|223's (feat. 9lok...|223's (feat. 9lok...|     YNW Melly|[2020]|\n",
    "|           As It Was|           As It Was|Michael Shynes|[2022]|\n",
    "|           As It Was|           As It Was|  Harry Styles|[2022]|\n",
    "\n",
    "<div style=\"text-align: center\"> only showing top 6 rows </div>"
   ]
  },
  {
   "cell_type": "code",
   "execution_count": 16,
   "id": "e866659a",
   "metadata": {},
   "outputs": [
    {
     "name": "stderr",
     "output_type": "stream",
     "text": [
      "                                                                                \r"
     ]
    },
    {
     "name": "stdout",
     "output_type": "stream",
     "text": [
      "+--------------------+--------------------+-------------+-----+\n",
      "|        track_name_n|             album_n|artist_name_n|years|\n",
      "+--------------------+--------------------+-------------+-----+\n",
      "|\"More Than A Woma...|            Greatest|     Bee Gees| 2020|\n",
      "|\"More Than A Woma...|How Can You Mend ...|     Bee Gees| 2022|\n",
      "|223's (feat. 9lok...|223's (feat. 9lok...|    YNW Melly| 2020|\n",
      "|223's (feat. 9lok...|    Melly vs. Melvin|    YNW Melly| 2019|\n",
      "|               34+35|           Positions|Ariana Grande| 2021|\n",
      "|               34+35|           Positions|Ariana Grande| 2022|\n",
      "+--------------------+--------------------+-------------+-----+\n",
      "only showing top 6 rows\n",
      "\n"
     ]
    },
    {
     "name": "stderr",
     "output_type": "stream",
     "text": [
      "                                                                                \r"
     ]
    },
    {
     "data": {
      "text/plain": [
       "308"
      ]
     },
     "execution_count": 16,
     "metadata": {},
     "output_type": "execute_result"
    }
   ],
   "source": [
    "from pyspark.sql.functions import arrays_zip, col, explode\n",
    "df12 = df6\\\n",
    ".groupBy(\"track_name\")\\\n",
    ".agg(collect_list(\"track_name\").alias(\"track_name_n\"),\n",
    "     collect_list(\"album\").alias(\"album_n\"),\n",
    "     collect_list(\"artist_name\").alias(\"artist_name_n\"),\n",
    "     collect_list(\"year\").alias(\"years\"))\\\n",
    ".where(count(\"track_name\") > 1)\\\n",
    ".withColumn(\"tmp\", arrays_zip(\"track_name_n\", \"album_n\" ,\"artist_name_n\",\"years\"))\\\n",
    ".withColumn(\"tmp\", explode(\"tmp\"))\\\n",
    ".select(col(\"tmp.track_name_n\"), col(\"tmp.album_n\"), col(\"tmp.artist_name_n\"), col(\"tmp.years\"))\\\n",
    "\n",
    "df12.show(6)\n",
    "df12.count()\n",
    "\n"
   ]
  },
  {
   "cell_type": "code",
   "execution_count": null,
   "id": "d08f2ea3",
   "metadata": {},
   "outputs": [],
   "source": []
  },
  {
   "cell_type": "code",
   "execution_count": null,
   "id": "5dc04fb7",
   "metadata": {},
   "outputs": [],
   "source": []
  },
  {
   "cell_type": "code",
   "execution_count": null,
   "id": "be1a094d",
   "metadata": {},
   "outputs": [],
   "source": []
  }
 ],
 "metadata": {
  "kernelspec": {
   "display_name": "Python 3 (ipykernel)",
   "language": "python",
   "name": "python3"
  },
  "language_info": {
   "codemirror_mode": {
    "name": "ipython",
    "version": 3
   },
   "file_extension": ".py",
   "mimetype": "text/x-python",
   "name": "python",
   "nbconvert_exporter": "python",
   "pygments_lexer": "ipython3",
   "version": "3.10.4"
  }
 },
 "nbformat": 4,
 "nbformat_minor": 5
}
